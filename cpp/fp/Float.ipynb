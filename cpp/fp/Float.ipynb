{
 "cells": [
  {
   "cell_type": "code",
   "execution_count": 1,
   "metadata": {},
   "outputs": [
    {
     "data": {
      "text/plain": []
     },
     "execution_count": 1,
     "metadata": {},
     "output_type": "execute_result"
    }
   ],
   "source": [
    "#include <iostream>\n",
    "#include <cstdio>\n",
    "#include <cassert>\n",
    "#include <cmath>"
   ]
  },
  {
   "cell_type": "code",
   "execution_count": 2,
   "metadata": {},
   "outputs": [
    {
     "data": {
      "text/plain": []
     },
     "execution_count": 2,
     "metadata": {},
     "output_type": "execute_result"
    }
   ],
   "source": [
    "#define MY_ASSERT(expr) \\\n",
    "  if (!expr) { \\\n",
    "    printf(\"Assertion failed on line %d: %s\\n\", __LINE__, #expr); \\\n",
    "    assert(expr); \\\n",
    "  }"
   ]
  },
  {
   "cell_type": "code",
   "execution_count": 3,
   "metadata": {},
   "outputs": [
    {
     "data": {
      "text/plain": []
     },
     "execution_count": 3,
     "metadata": {},
     "output_type": "execute_result"
    }
   ],
   "source": [
    "#define STRUCT_FLOAT_EXP_BITS 3\n",
    "#define STRUCT_FLOAT_MANT_BITS 5\n",
    "\n",
    "struct Float {\n",
    "  unsigned int sign:1;\n",
    "  unsigned int exp:STRUCT_FLOAT_EXP_BITS;\n",
    "  unsigned int mant:STRUCT_FLOAT_MANT_BITS;\n",
    "};\n",
    "\n",
    "#define FLOAT_EXP_BIAS ((1 << (STRUCT_FLOAT_EXP_BITS - 1)) - 1)\n",
    "#define FLOAT_EXP_MAX  ((1 << STRUCT_FLOAT_EXP_BITS) - 1)\n",
    "#define FLOAT_MANT_MAX ((1 << STRUCT_FLOAT_MANT_BITS) - 1)\n",
    "const unsigned int Float_exp_bias = FLOAT_EXP_BIAS;\n",
    "const unsigned int Float_exp_max = FLOAT_EXP_MAX;\n",
    "const unsigned int Float_mant_max = FLOAT_MANT_MAX;\n",
    "const Float Float_zero = {0, 0, 0};\n",
    "const Float Float_minus_zero = {1, 0, 0};\n",
    "const Float Float_infty = {0, FLOAT_EXP_MAX, 0};\n",
    "const Float Float_minus_infty = {1, FLOAT_EXP_MAX, 0};\n",
    "const Float Float_nan = {0, FLOAT_EXP_MAX, 1};\n",
    "const Float Float_one = {0, FLOAT_EXP_BIAS, 0};\n",
    "//const Float Float_eps = Float_subtract(Float_one, Float_next(Float_one));"
   ]
  },
  {
   "cell_type": "code",
   "execution_count": 4,
   "metadata": {},
   "outputs": [
    {
     "data": {
      "text/plain": []
     },
     "execution_count": 4,
     "metadata": {},
     "output_type": "execute_result"
    }
   ],
   "source": [
    "/// Returns true if a represents NaN, or Not-A-Number\n",
    "bool Float_is_nan(const Float a) {\n",
    "  return a.exp == Float_exp_max && a.mant != 0;\n",
    "}\n",
    "\n",
    "MY_ASSERT(!Float_is_nan(Float_zero));\n",
    "MY_ASSERT(!Float_is_nan(Float_minus_zero));\n",
    "MY_ASSERT(!Float_is_nan(Float_infty));\n",
    "MY_ASSERT(!Float_is_nan(Float_minus_infty));\n",
    "MY_ASSERT(Float_is_nan(Float_nan));\n",
    "MY_ASSERT(Float_is_nan({0, FLOAT_EXP_MAX, 3}));"
   ]
  },
  {
   "cell_type": "code",
   "execution_count": 5,
   "metadata": {},
   "outputs": [
    {
     "data": {
      "text/plain": []
     },
     "execution_count": 5,
     "metadata": {},
     "output_type": "execute_result"
    }
   ],
   "source": [
    "/// Returns true for a == +\\infty or a == -\\infty\n",
    "bool Float_is_inf(const Float a) {\n",
    "  return a.exp == Float_exp_max && a.mant == 0;\n",
    "}\n",
    "\n",
    "MY_ASSERT(!Float_is_inf(Float_zero));\n",
    "MY_ASSERT(!Float_is_inf(Float_minus_zero));\n",
    "MY_ASSERT(Float_is_inf(Float_infty));\n",
    "MY_ASSERT(Float_is_inf(Float_minus_infty));\n",
    "MY_ASSERT(!Float_is_inf(Float_nan));\n",
    "MY_ASSERT(!Float_is_inf({0, FLOAT_EXP_MAX, 3}));"
   ]
  },
  {
   "cell_type": "code",
   "execution_count": 6,
   "metadata": {},
   "outputs": [
    {
     "data": {
      "text/plain": []
     },
     "execution_count": 6,
     "metadata": {},
     "output_type": "execute_result"
    }
   ],
   "source": [
    "/// Returns true for a == +\\infty\n",
    "bool Float_is_pinf(const Float a) {\n",
    "  return a.sign == 0 && Float_is_inf(a);\n",
    "}\n",
    "\n",
    "MY_ASSERT(!Float_is_pinf(Float_zero));\n",
    "MY_ASSERT(!Float_is_pinf(Float_minus_zero));\n",
    "MY_ASSERT(Float_is_pinf(Float_infty));\n",
    "MY_ASSERT(!Float_is_pinf(Float_minus_infty));\n",
    "MY_ASSERT(!Float_is_pinf(Float_nan));\n",
    "MY_ASSERT(!Float_is_pinf({0, FLOAT_EXP_MAX, 3}));"
   ]
  },
  {
   "cell_type": "code",
   "execution_count": 7,
   "metadata": {},
   "outputs": [
    {
     "data": {
      "text/plain": []
     },
     "execution_count": 7,
     "metadata": {},
     "output_type": "execute_result"
    }
   ],
   "source": [
    "/// Returns true for a == -\\infty\n",
    "bool Float_is_ninf(const Float a) {\n",
    "  return a.sign == 1 && Float_is_inf(a);\n",
    "}\n",
    "\n",
    "MY_ASSERT(!Float_is_ninf(Float_zero));\n",
    "MY_ASSERT(!Float_is_ninf(Float_minus_zero));\n",
    "MY_ASSERT(!Float_is_ninf(Float_infty));\n",
    "MY_ASSERT(Float_is_ninf(Float_minus_infty));\n",
    "MY_ASSERT(!Float_is_ninf(Float_nan));\n",
    "MY_ASSERT(!Float_is_ninf({0, FLOAT_EXP_MAX, 3}));"
   ]
  },
  {
   "cell_type": "code",
   "execution_count": 8,
   "metadata": {},
   "outputs": [
    {
     "data": {
      "text/plain": []
     },
     "execution_count": 8,
     "metadata": {},
     "output_type": "execute_result"
    }
   ],
   "source": [
    "/// Returns true if a is in the subnormal range\n",
    "bool Float_is_subnormal(const Float a) {\n",
    "  return a.exp == 0;\n",
    "}\n",
    "\n",
    "MY_ASSERT(Float_is_subnormal(Float_zero));\n",
    "MY_ASSERT(Float_is_subnormal(Float_minus_zero));\n",
    "MY_ASSERT(!Float_is_subnormal(Float_infty));\n",
    "MY_ASSERT(!Float_is_subnormal(Float_minus_infty));\n",
    "MY_ASSERT(!Float_is_subnormal(Float_nan));\n",
    "MY_ASSERT(!Float_is_subnormal({0, FLOAT_EXP_MAX, 3}));\n",
    "MY_ASSERT(!Float_is_subnormal({0, FLOAT_EXP_MAX, 3}));"
   ]
  },
  {
   "cell_type": "code",
   "execution_count": 9,
   "metadata": {},
   "outputs": [
    {
     "data": {
      "text/plain": []
     },
     "execution_count": 9,
     "metadata": {},
     "output_type": "execute_result"
    }
   ],
   "source": [
    "/// Returns true if and only if the bits match exactly\n",
    "bool Float_binary_equal(const Float a, const Float b) {\n",
    "  return a.sign == b.sign && a.exp == b.exp && a.mant == b.mant;\n",
    "}"
   ]
  },
  {
   "cell_type": "code",
   "execution_count": 10,
   "metadata": {},
   "outputs": [
    {
     "data": {
      "text/plain": []
     },
     "execution_count": 10,
     "metadata": {},
     "output_type": "execute_result"
    }
   ],
   "source": [
    "/// Returns true for a == b\n",
    "/// Note: zero == minus zero\n",
    "/// Note: nan != nan, no matter what\n",
    "/// Note: +\\infty == +\\infty and -\\infty = -\\infty\n",
    "bool Float_equal(const Float a, const Float b) {\n",
    "  // first line checks:  zero == minus_zero\n",
    "  // second line checks: a == b for each field\n",
    "  // second line: nan != nan, even if bits match\n",
    "  return (a.exp == 0 && b.exp == 0 && a.mant == 0 && b.mant == 0)\n",
    "         || (Float_binary_equal(a, b) && !Float_is_nan(a));\n",
    "}"
   ]
  },
  {
   "cell_type": "code",
   "execution_count": 11,
   "metadata": {},
   "outputs": [
    {
     "data": {
      "text/plain": []
     },
     "execution_count": 11,
     "metadata": {},
     "output_type": "execute_result"
    }
   ],
   "source": [
    "/// Prints the float to the console\n",
    "void Float_print(const Float a) {\n",
    "  printf(\"Float(%d, %d, %d) = \", a.sign, a.exp, a.mant);\n",
    "  if (Float_is_nan(a)) {\n",
    "    fputs(\"NaN\", stdout);\n",
    "  } else if (Float_is_pinf(a)) {\n",
    "    fputs(\"+infty\", stdout);\n",
    "  } else if (Float_is_ninf(a)) {\n",
    "    fputs(\"-infty\", stdout);\n",
    "  } else {\n",
    "    // Only print to 4 decimal places\n",
    "    unsigned long mant_section = (a.mant * 5000) >> (STRUCT_FLOAT_MANT_BITS - 1);\n",
    "    int sign = (a.sign == 1 ? -1 : 1);\n",
    "    float mant_value =\n",
    "      sign * (Float_is_subnormal(a) ? 0 : 1)\n",
    "      + sign * ((float)mant_section) / 10000;\n",
    "    int exponent = a.exp - Float_exp_bias + (Float_is_subnormal(a) ? 1 : 0);\n",
    "    float value = mant_value *\n",
    "      (exponent >= 0 ? (1 << exponent) : (1 / ((float)(1 << -exponent))));\n",
    "\n",
    "    printf(\"%s%d.%04ld * 2^(%d) = %g\",\n",
    "      a.sign == 1 ? \"-\" : \"\",\n",
    "      !Float_is_subnormal(a),\n",
    "      mant_section,\n",
    "      exponent,\n",
    "      value\n",
    "      );\n",
    "  }\n",
    "}"
   ]
  },
  {
   "cell_type": "code",
   "execution_count": 12,
   "metadata": {},
   "outputs": [
    {
     "data": {
      "text/plain": []
     },
     "execution_count": 12,
     "metadata": {},
     "output_type": "execute_result"
    }
   ],
   "source": [
    "// Convert Float -> float\n",
    "float Float_to_float(const Float a) {\n",
    "  unsigned int mant_section = (a.mant * 500) >> (STRUCT_FLOAT_MANT_BITS - 1);\n",
    "  int sign = (a.sign == 1 ? -1 : 1);\n",
    "  float mant_value =\n",
    "    sign * (Float_is_subnormal(a) ? 0 : 1)\n",
    "    + sign * ((float)mant_section) / 1000;\n",
    "  int exponent = a.exp - Float_exp_bias + (Float_is_subnormal(a) ? 1 : 0);\n",
    "  float value = mant_value *\n",
    "    (exponent >= 0 ? (1 << exponent) : (1 / ((float)(1 << -exponent))));\n",
    "  return value;\n",
    "}"
   ]
  },
  {
   "cell_type": "code",
   "execution_count": 13,
   "metadata": {},
   "outputs": [
    {
     "data": {
      "text/plain": []
     },
     "execution_count": 13,
     "metadata": {},
     "output_type": "execute_result"
    }
   ],
   "source": [
    "/// Returns the ordinal away from zero in FP steps\n",
    "int Float_ord(const Float a) {\n",
    "  int sign = (a.sign == 1 ? -1 : 1);\n",
    "  int as_int = (a.exp << STRUCT_FLOAT_MANT_BITS) + a.mant;\n",
    "  return sign * as_int;\n",
    "}"
   ]
  },
  {
   "cell_type": "code",
   "execution_count": 14,
   "metadata": {},
   "outputs": [
    {
     "data": {
      "text/plain": []
     },
     "execution_count": 14,
     "metadata": {},
     "output_type": "execute_result"
    }
   ],
   "source": [
    "Float Float_from_ord(const int ord) {\n",
    "  // TODO: implement\n",
    "  return (Float){0, 0, 0};\n",
    "}"
   ]
  },
  {
   "cell_type": "code",
   "execution_count": 15,
   "metadata": {},
   "outputs": [
    {
     "data": {
      "text/plain": []
     },
     "execution_count": 15,
     "metadata": {},
     "output_type": "execute_result"
    }
   ],
   "source": [
    "/// Gives the next Float value away from zero\n",
    "Float Float_next(const Float a) {\n",
    "  if (a.mant == Float_mant_max) {\n",
    "    if (a.exp != Float_exp_max) {\n",
    "      return {a.sign, a.exp + 1u, 0};\n",
    "    }\n",
    "    // If we are in NaN territory, stay in NaN territory\n",
    "    return a;\n",
    "  } else {\n",
    "    return {a.sign, a.exp, a.mant + 1u};\n",
    "  }\n",
    "}"
   ]
  },
  {
   "cell_type": "code",
   "execution_count": 16,
   "metadata": {},
   "outputs": [
    {
     "data": {
      "text/plain": []
     },
     "execution_count": 16,
     "metadata": {},
     "output_type": "execute_result"
    }
   ],
   "source": [
    "/// Adds two floats and returns the result\n",
    "Float Float_add(const Float a, const Float b) {\n",
    "  // TODO: implement\n",
    "  return Float_zero;\n",
    "}"
   ]
  },
  {
   "cell_type": "code",
   "execution_count": 17,
   "metadata": {},
   "outputs": [
    {
     "data": {
      "text/plain": []
     },
     "execution_count": 17,
     "metadata": {},
     "output_type": "execute_result"
    }
   ],
   "source": [
    "Float Float_subtract(const Float a, const Float b) {\n",
    "  Float neg_b = {b.sign ^ 0x1u, b.exp, b.mant};\n",
    "  return Float_add(a, neg_b);\n",
    "}"
   ]
  },
  {
   "cell_type": "code",
   "execution_count": 18,
   "metadata": {},
   "outputs": [
    {
     "data": {
      "text/plain": []
     },
     "execution_count": 18,
     "metadata": {},
     "output_type": "execute_result"
    }
   ],
   "source": [
    "/// Multiplies two floats and returns the result\n",
    "Float Float_mult(const Float a, const Float b) {\n",
    "  // TODO: implement\n",
    "  return Float_zero;\n",
    "}"
   ]
  },
  {
   "cell_type": "code",
   "execution_count": 19,
   "metadata": {},
   "outputs": [
    {
     "data": {
      "text/plain": []
     },
     "execution_count": 19,
     "metadata": {},
     "output_type": "execute_result"
    }
   ],
   "source": [
    "void print_named_Float(const char* name, const Float a) {\n",
    "  fputs(name, stdout);\n",
    "  Float_print(a);\n",
    "  fputs(\"\\n\", stdout);\n",
    "}"
   ]
  },
  {
   "cell_type": "code",
   "execution_count": 20,
   "metadata": {},
   "outputs": [
    {
     "name": "stdout",
     "output_type": "stream",
     "text": [
      "Sign Bits:         1\n",
      "Exponent Bits:     3\n",
      "Mantissa Bits:     5\n",
      "Exponent Bias:     3\n",
      "Exponent Max:      7\n",
      "Mantissa Max:      31\n"
     ]
    },
    {
     "data": {
      "text/plain": [
       "(int) 22\n"
      ]
     },
     "execution_count": 20,
     "metadata": {},
     "output_type": "execute_result"
    }
   ],
   "source": [
    "fputs(\"Sign Bits:         1\\n\", stdout);\n",
    "printf(\"Exponent Bits:     %d\\n\", STRUCT_FLOAT_EXP_BITS);\n",
    "printf(\"Mantissa Bits:     %d\\n\", STRUCT_FLOAT_MANT_BITS);\n",
    "printf(\"Exponent Bias:     %d\\n\", Float_exp_bias);\n",
    "printf(\"Exponent Max:      %d\\n\", Float_exp_max);\n",
    "printf(\"Mantissa Max:      %d\\n\", Float_mant_max);"
   ]
  },
  {
   "cell_type": "code",
   "execution_count": 21,
   "metadata": {},
   "outputs": [
    {
     "name": "stdout",
     "output_type": "stream",
     "text": [
      "Float_zero:        Float(0, 0, 0) = 0.0000 * 2^(-2) = 0\n",
      "Float_minus_zero:  Float(1, 0, 0) = -0.0000 * 2^(-2) = 0\n",
      "Float_infty:       Float(0, 7, 0) = +infty\n",
      "Float_minus_infty: Float(1, 7, 0) = -infty\n",
      "Float_nan:         Float(0, 7, 1) = NaN\n",
      "Float_one:         Float(0, 3, 0) = 1.0000 * 2^(0) = 1\n"
     ]
    },
    {
     "data": {
      "text/plain": [
       "(void) @0x7f3d1e7fae08\n"
      ]
     },
     "execution_count": 21,
     "metadata": {},
     "output_type": "execute_result"
    }
   ],
   "source": [
    "print_named_Float(\"Float_zero:        \", Float_zero);\n",
    "print_named_Float(\"Float_minus_zero:  \", Float_minus_zero);\n",
    "print_named_Float(\"Float_infty:       \", Float_infty);\n",
    "print_named_Float(\"Float_minus_infty: \", Float_minus_infty);\n",
    "print_named_Float(\"Float_nan:         \", Float_nan);\n",
    "print_named_Float(\"Float_one:         \", Float_one);"
   ]
  },
  {
   "cell_type": "code",
   "execution_count": 22,
   "metadata": {
    "scrolled": false
   },
   "outputs": [
    {
     "name": "stdout",
     "output_type": "stream",
     "text": [
      "Positive Floats:\n",
      "  Float(0, 0, 0) = 0.0000 * 2^(-2) = 0\n",
      "  Float(0, 0, 1) = 0.0312 * 2^(-2) = 0.0078\n",
      "  Float(0, 0, 2) = 0.0625 * 2^(-2) = 0.015625\n",
      "  Float(0, 0, 3) = 0.0937 * 2^(-2) = 0.023425\n",
      "  Float(0, 0, 4) = 0.1250 * 2^(-2) = 0.03125\n",
      "  Float(0, 0, 5) = 0.1562 * 2^(-2) = 0.03905\n",
      "  Float(0, 0, 6) = 0.1875 * 2^(-2) = 0.046875\n",
      "  Float(0, 0, 7) = 0.2187 * 2^(-2) = 0.054675\n",
      "  Float(0, 0, 8) = 0.2500 * 2^(-2) = 0.0625\n",
      "  Float(0, 0, 9) = 0.2812 * 2^(-2) = 0.0703\n",
      "  Float(0, 0, 10) = 0.3125 * 2^(-2) = 0.078125\n",
      "  Float(0, 0, 11) = 0.3437 * 2^(-2) = 0.085925\n",
      "  Float(0, 0, 12) = 0.3750 * 2^(-2) = 0.09375\n",
      "  Float(0, 0, 13) = 0.4062 * 2^(-2) = 0.10155\n",
      "  Float(0, 0, 14) = 0.4375 * 2^(-2) = 0.109375\n",
      "  Float(0, 0, 15) = 0.4687 * 2^(-2) = 0.117175\n",
      "  Float(0, 0, 16) = 0.5000 * 2^(-2) = 0.125\n",
      "  Float(0, 0, 17) = 0.5312 * 2^(-2) = 0.1328\n",
      "  Float(0, 0, 18) = 0.5625 * 2^(-2) = 0.140625\n",
      "  Float(0, 0, 19) = 0.5937 * 2^(-2) = 0.148425\n",
      "  Float(0, 0, 20) = 0.6250 * 2^(-2) = 0.15625\n",
      "  Float(0, 0, 21) = 0.6562 * 2^(-2) = 0.16405\n",
      "  Float(0, 0, 22) = 0.6875 * 2^(-2) = 0.171875\n",
      "  Float(0, 0, 23) = 0.7187 * 2^(-2) = 0.179675\n",
      "  Float(0, 0, 24) = 0.7500 * 2^(-2) = 0.1875\n",
      "  Float(0, 0, 25) = 0.7812 * 2^(-2) = 0.1953\n",
      "  Float(0, 0, 26) = 0.8125 * 2^(-2) = 0.203125\n",
      "  Float(0, 0, 27) = 0.8437 * 2^(-2) = 0.210925\n",
      "  Float(0, 0, 28) = 0.8750 * 2^(-2) = 0.21875\n",
      "  Float(0, 0, 29) = 0.9062 * 2^(-2) = 0.22655\n",
      "  Float(0, 0, 30) = 0.9375 * 2^(-2) = 0.234375\n",
      "  Float(0, 0, 31) = 0.9687 * 2^(-2) = 0.242175\n",
      "  Float(0, 1, 0) = 1.0000 * 2^(-2) = 0.25\n",
      "  Float(0, 1, 1) = 1.0312 * 2^(-2) = 0.2578\n",
      "  Float(0, 1, 2) = 1.0625 * 2^(-2) = 0.265625\n",
      "  Float(0, 1, 3) = 1.0937 * 2^(-2) = 0.273425\n",
      "  Float(0, 1, 4) = 1.1250 * 2^(-2) = 0.28125\n",
      "  Float(0, 1, 5) = 1.1562 * 2^(-2) = 0.28905\n",
      "  Float(0, 1, 6) = 1.1875 * 2^(-2) = 0.296875\n",
      "  Float(0, 1, 7) = 1.2187 * 2^(-2) = 0.304675\n",
      "  Float(0, 1, 8) = 1.2500 * 2^(-2) = 0.3125\n",
      "  Float(0, 1, 9) = 1.2812 * 2^(-2) = 0.3203\n",
      "  Float(0, 1, 10) = 1.3125 * 2^(-2) = 0.328125\n",
      "  Float(0, 1, 11) = 1.3437 * 2^(-2) = 0.335925\n",
      "  Float(0, 1, 12) = 1.3750 * 2^(-2) = 0.34375\n",
      "  Float(0, 1, 13) = 1.4062 * 2^(-2) = 0.35155\n",
      "  Float(0, 1, 14) = 1.4375 * 2^(-2) = 0.359375\n",
      "  Float(0, 1, 15) = 1.4687 * 2^(-2) = 0.367175\n",
      "  Float(0, 1, 16) = 1.5000 * 2^(-2) = 0.375\n",
      "  Float(0, 1, 17) = 1.5312 * 2^(-2) = 0.3828\n",
      "  Float(0, 1, 18) = 1.5625 * 2^(-2) = 0.390625\n",
      "  Float(0, 1, 19) = 1.5937 * 2^(-2) = 0.398425\n",
      "  Float(0, 1, 20) = 1.6250 * 2^(-2) = 0.40625\n",
      "  Float(0, 1, 21) = 1.6562 * 2^(-2) = 0.41405\n",
      "  Float(0, 1, 22) = 1.6875 * 2^(-2) = 0.421875\n",
      "  Float(0, 1, 23) = 1.7187 * 2^(-2) = 0.429675\n",
      "  Float(0, 1, 24) = 1.7500 * 2^(-2) = 0.4375\n",
      "  Float(0, 1, 25) = 1.7812 * 2^(-2) = 0.4453\n",
      "  Float(0, 1, 26) = 1.8125 * 2^(-2) = 0.453125\n",
      "  Float(0, 1, 27) = 1.8437 * 2^(-2) = 0.460925\n",
      "  Float(0, 1, 28) = 1.8750 * 2^(-2) = 0.46875\n",
      "  Float(0, 1, 29) = 1.9062 * 2^(-2) = 0.47655\n",
      "  Float(0, 1, 30) = 1.9375 * 2^(-2) = 0.484375\n",
      "  Float(0, 1, 31) = 1.9687 * 2^(-2) = 0.492175\n",
      "  Float(0, 2, 0) = 1.0000 * 2^(-1) = 0.5\n",
      "  Float(0, 2, 1) = 1.0312 * 2^(-1) = 0.5156\n",
      "  Float(0, 2, 2) = 1.0625 * 2^(-1) = 0.53125\n",
      "  Float(0, 2, 3) = 1.0937 * 2^(-1) = 0.54685\n",
      "  Float(0, 2, 4) = 1.1250 * 2^(-1) = 0.5625\n",
      "  Float(0, 2, 5) = 1.1562 * 2^(-1) = 0.5781\n",
      "  Float(0, 2, 6) = 1.1875 * 2^(-1) = 0.59375\n",
      "  Float(0, 2, 7) = 1.2187 * 2^(-1) = 0.60935\n",
      "  Float(0, 2, 8) = 1.2500 * 2^(-1) = 0.625\n",
      "  Float(0, 2, 9) = 1.2812 * 2^(-1) = 0.6406\n",
      "  Float(0, 2, 10) = 1.3125 * 2^(-1) = 0.65625\n",
      "  Float(0, 2, 11) = 1.3437 * 2^(-1) = 0.67185\n",
      "  Float(0, 2, 12) = 1.3750 * 2^(-1) = 0.6875\n",
      "  Float(0, 2, 13) = 1.4062 * 2^(-1) = 0.7031\n",
      "  Float(0, 2, 14) = 1.4375 * 2^(-1) = 0.71875\n",
      "  Float(0, 2, 15) = 1.4687 * 2^(-1) = 0.73435\n",
      "  Float(0, 2, 16) = 1.5000 * 2^(-1) = 0.75\n",
      "  Float(0, 2, 17) = 1.5312 * 2^(-1) = 0.7656\n",
      "  Float(0, 2, 18) = 1.5625 * 2^(-1) = 0.78125\n",
      "  Float(0, 2, 19) = 1.5937 * 2^(-1) = 0.79685\n",
      "  Float(0, 2, 20) = 1.6250 * 2^(-1) = 0.8125\n",
      "  Float(0, 2, 21) = 1.6562 * 2^(-1) = 0.8281\n",
      "  Float(0, 2, 22) = 1.6875 * 2^(-1) = 0.84375\n",
      "  Float(0, 2, 23) = 1.7187 * 2^(-1) = 0.85935\n",
      "  Float(0, 2, 24) = 1.7500 * 2^(-1) = 0.875\n",
      "  Float(0, 2, 25) = 1.7812 * 2^(-1) = 0.8906\n",
      "  Float(0, 2, 26) = 1.8125 * 2^(-1) = 0.90625\n",
      "  Float(0, 2, 27) = 1.8437 * 2^(-1) = 0.92185\n",
      "  Float(0, 2, 28) = 1.8750 * 2^(-1) = 0.9375\n",
      "  Float(0, 2, 29) = 1.9062 * 2^(-1) = 0.9531\n",
      "  Float(0, 2, 30) = 1.9375 * 2^(-1) = 0.96875\n",
      "  Float(0, 2, 31) = 1.9687 * 2^(-1) = 0.98435\n",
      "  Float(0, 3, 0) = 1.0000 * 2^(0) = 1\n",
      "  Float(0, 3, 1) = 1.0312 * 2^(0) = 1.0312\n",
      "  Float(0, 3, 2) = 1.0625 * 2^(0) = 1.0625\n",
      "  Float(0, 3, 3) = 1.0937 * 2^(0) = 1.0937\n",
      "  Float(0, 3, 4) = 1.1250 * 2^(0) = 1.125\n",
      "  Float(0, 3, 5) = 1.1562 * 2^(0) = 1.1562\n",
      "  Float(0, 3, 6) = 1.1875 * 2^(0) = 1.1875\n",
      "  Float(0, 3, 7) = 1.2187 * 2^(0) = 1.2187\n",
      "  Float(0, 3, 8) = 1.2500 * 2^(0) = 1.25\n",
      "  Float(0, 3, 9) = 1.2812 * 2^(0) = 1.2812\n",
      "  Float(0, 3, 10) = 1.3125 * 2^(0) = 1.3125\n",
      "  Float(0, 3, 11) = 1.3437 * 2^(0) = 1.3437\n",
      "  Float(0, 3, 12) = 1.3750 * 2^(0) = 1.375\n",
      "  Float(0, 3, 13) = 1.4062 * 2^(0) = 1.4062\n",
      "  Float(0, 3, 14) = 1.4375 * 2^(0) = 1.4375\n",
      "  Float(0, 3, 15) = 1.4687 * 2^(0) = 1.4687\n",
      "  Float(0, 3, 16) = 1.5000 * 2^(0) = 1.5\n",
      "  Float(0, 3, 17) = 1.5312 * 2^(0) = 1.5312\n",
      "  Float(0, 3, 18) = 1.5625 * 2^(0) = 1.5625\n",
      "  Float(0, 3, 19) = 1.5937 * 2^(0) = 1.5937\n",
      "  Float(0, 3, 20) = 1.6250 * 2^(0) = 1.625\n",
      "  Float(0, 3, 21) = 1.6562 * 2^(0) = 1.6562\n",
      "  Float(0, 3, 22) = 1.6875 * 2^(0) = 1.6875\n",
      "  Float(0, 3, 23) = 1.7187 * 2^(0) = 1.7187\n",
      "  Float(0, 3, 24) = 1.7500 * 2^(0) = 1.75\n",
      "  Float(0, 3, 25) = 1.7812 * 2^(0) = 1.7812\n",
      "  Float(0, 3, 26) = 1.8125 * 2^(0) = 1.8125\n",
      "  Float(0, 3, 27) = 1.8437 * 2^(0) = 1.8437\n",
      "  Float(0, 3, 28) = 1.8750 * 2^(0) = 1.875\n",
      "  Float(0, 3, 29) = 1.9062 * 2^(0) = 1.9062\n",
      "  Float(0, 3, 30) = 1.9375 * 2^(0) = 1.9375\n",
      "  Float(0, 3, 31) = 1.9687 * 2^(0) = 1.9687\n",
      "  Float(0, 4, 0) = 1.0000 * 2^(1) = 2\n",
      "  Float(0, 4, 1) = 1.0312 * 2^(1) = 2.0624\n",
      "  Float(0, 4, 2) = 1.0625 * 2^(1) = 2.125\n",
      "  Float(0, 4, 3) = 1.0937 * 2^(1) = 2.1874\n",
      "  Float(0, 4, 4) = 1.1250 * 2^(1) = 2.25\n",
      "  Float(0, 4, 5) = 1.1562 * 2^(1) = 2.3124\n",
      "  Float(0, 4, 6) = 1.1875 * 2^(1) = 2.375\n",
      "  Float(0, 4, 7) = 1.2187 * 2^(1) = 2.4374\n",
      "  Float(0, 4, 8) = 1.2500 * 2^(1) = 2.5\n",
      "  Float(0, 4, 9) = 1.2812 * 2^(1) = 2.5624\n",
      "  Float(0, 4, 10) = 1.3125 * 2^(1) = 2.625\n",
      "  Float(0, 4, 11) = 1.3437 * 2^(1) = 2.6874\n",
      "  Float(0, 4, 12) = 1.3750 * 2^(1) = 2.75\n",
      "  Float(0, 4, 13) = 1.4062 * 2^(1) = 2.8124\n",
      "  Float(0, 4, 14) = 1.4375 * 2^(1) = 2.875\n",
      "  Float(0, 4, 15) = 1.4687 * 2^(1) = 2.9374\n",
      "  Float(0, 4, 16) = 1.5000 * 2^(1) = 3\n",
      "  Float(0, 4, 17) = 1.5312 * 2^(1) = 3.0624\n",
      "  Float(0, 4, 18) = 1.5625 * 2^(1) = 3.125\n",
      "  Float(0, 4, 19) = 1.5937 * 2^(1) = 3.1874\n",
      "  Float(0, 4, 20) = 1.6250 * 2^(1) = 3.25\n",
      "  Float(0, 4, 21) = 1.6562 * 2^(1) = 3.3124\n",
      "  Float(0, 4, 22) = 1.6875 * 2^(1) = 3.375\n",
      "  Float(0, 4, 23) = 1.7187 * 2^(1) = 3.4374\n",
      "  Float(0, 4, 24) = 1.7500 * 2^(1) = 3.5\n",
      "  Float(0, 4, 25) = 1.7812 * 2^(1) = 3.5624\n",
      "  Float(0, 4, 26) = 1.8125 * 2^(1) = 3.625\n",
      "  Float(0, 4, 27) = 1.8437 * 2^(1) = 3.6874\n",
      "  Float(0, 4, 28) = 1.8750 * 2^(1) = 3.75\n",
      "  Float(0, 4, 29) = 1.9062 * 2^(1) = 3.8124\n",
      "  Float(0, 4, 30) = 1.9375 * 2^(1) = 3.875\n",
      "  Float(0, 4, 31) = 1.9687 * 2^(1) = 3.9374\n",
      "  Float(0, 5, 0) = 1.0000 * 2^(2) = 4\n",
      "  Float(0, 5, 1) = 1.0312 * 2^(2) = 4.1248\n",
      "  Float(0, 5, 2) = 1.0625 * 2^(2) = 4.25\n",
      "  Float(0, 5, 3) = 1.0937 * 2^(2) = 4.3748\n",
      "  Float(0, 5, 4) = 1.1250 * 2^(2) = 4.5\n",
      "  Float(0, 5, 5) = 1.1562 * 2^(2) = 4.6248\n",
      "  Float(0, 5, 6) = 1.1875 * 2^(2) = 4.75\n",
      "  Float(0, 5, 7) = 1.2187 * 2^(2) = 4.8748\n",
      "  Float(0, 5, 8) = 1.2500 * 2^(2) = 5\n",
      "  Float(0, 5, 9) = 1.2812 * 2^(2) = 5.1248\n",
      "  Float(0, 5, 10) = 1.3125 * 2^(2) = 5.25\n",
      "  Float(0, 5, 11) = 1.3437 * 2^(2) = 5.3748\n",
      "  Float(0, 5, 12) = 1.3750 * 2^(2) = 5.5\n",
      "  Float(0, 5, 13) = 1.4062 * 2^(2) = 5.6248\n",
      "  Float(0, 5, 14) = 1.4375 * 2^(2) = 5.75\n",
      "  Float(0, 5, 15) = 1.4687 * 2^(2) = 5.8748\n",
      "  Float(0, 5, 16) = 1.5000 * 2^(2) = 6\n",
      "  Float(0, 5, 17) = 1.5312 * 2^(2) = 6.1248\n",
      "  Float(0, 5, 18) = 1.5625 * 2^(2) = 6.25\n",
      "  Float(0, 5, 19) = 1.5937 * 2^(2) = 6.3748\n",
      "  Float(0, 5, 20) = 1.6250 * 2^(2) = 6.5\n",
      "  Float(0, 5, 21) = 1.6562 * 2^(2) = 6.6248\n",
      "  Float(0, 5, 22) = 1.6875 * 2^(2) = 6.75\n",
      "  Float(0, 5, 23) = 1.7187 * 2^(2) = 6.8748\n",
      "  Float(0, 5, 24) = 1.7500 * 2^(2) = 7\n",
      "  Float(0, 5, 25) = 1.7812 * 2^(2) = 7.1248\n",
      "  Float(0, 5, 26) = 1.8125 * 2^(2) = 7.25\n",
      "  Float(0, 5, 27) = 1.8437 * 2^(2) = 7.3748\n",
      "  Float(0, 5, 28) = 1.8750 * 2^(2) = 7.5\n",
      "  Float(0, 5, 29) = 1.9062 * 2^(2) = 7.6248\n",
      "  Float(0, 5, 30) = 1.9375 * 2^(2) = 7.75\n",
      "  Float(0, 5, 31) = 1.9687 * 2^(2) = 7.8748\n",
      "  Float(0, 6, 0) = 1.0000 * 2^(3) = 8\n",
      "  Float(0, 6, 1) = 1.0312 * 2^(3) = 8.2496\n",
      "  Float(0, 6, 2) = 1.0625 * 2^(3) = 8.5\n",
      "  Float(0, 6, 3) = 1.0937 * 2^(3) = 8.7496\n",
      "  Float(0, 6, 4) = 1.1250 * 2^(3) = 9\n",
      "  Float(0, 6, 5) = 1.1562 * 2^(3) = 9.2496\n",
      "  Float(0, 6, 6) = 1.1875 * 2^(3) = 9.5\n",
      "  Float(0, 6, 7) = 1.2187 * 2^(3) = 9.7496\n",
      "  Float(0, 6, 8) = 1.2500 * 2^(3) = 10\n",
      "  Float(0, 6, 9) = 1.2812 * 2^(3) = 10.2496\n",
      "  Float(0, 6, 10) = 1.3125 * 2^(3) = 10.5\n",
      "  Float(0, 6, 11) = 1.3437 * 2^(3) = 10.7496\n",
      "  Float(0, 6, 12) = 1.3750 * 2^(3) = 11\n",
      "  Float(0, 6, 13) = 1.4062 * 2^(3) = 11.2496\n",
      "  Float(0, 6, 14) = 1.4375 * 2^(3) = 11.5\n",
      "  Float(0, 6, 15) = 1.4687 * 2^(3) = 11.7496\n",
      "  Float(0, 6, 16) = 1.5000 * 2^(3) = 12\n"
     ]
    },
    {
     "name": "stdout",
     "output_type": "stream",
     "text": [
      "  Float(0, 6, 17) = 1.5312 * 2^(3) = 12.2496\n",
      "  Float(0, 6, 18) = 1.5625 * 2^(3) = 12.5\n",
      "  Float(0, 6, 19) = 1.5937 * 2^(3) = 12.7496\n",
      "  Float(0, 6, 20) = 1.6250 * 2^(3) = 13\n",
      "  Float(0, 6, 21) = 1.6562 * 2^(3) = 13.2496\n",
      "  Float(0, 6, 22) = 1.6875 * 2^(3) = 13.5\n",
      "  Float(0, 6, 23) = 1.7187 * 2^(3) = 13.7496\n",
      "  Float(0, 6, 24) = 1.7500 * 2^(3) = 14\n",
      "  Float(0, 6, 25) = 1.7812 * 2^(3) = 14.2496\n",
      "  Float(0, 6, 26) = 1.8125 * 2^(3) = 14.5\n",
      "  Float(0, 6, 27) = 1.8437 * 2^(3) = 14.7496\n",
      "  Float(0, 6, 28) = 1.8750 * 2^(3) = 15\n",
      "  Float(0, 6, 29) = 1.9062 * 2^(3) = 15.2496\n",
      "  Float(0, 6, 30) = 1.9375 * 2^(3) = 15.5\n",
      "  Float(0, 6, 31) = 1.9687 * 2^(3) = 15.7496\n",
      "  Float(0, 7, 0) = +infty\n",
      "  Float(0, 7, 1) = NaN\n",
      "  Float(0, 7, 2) = NaN\n",
      "  Float(0, 7, 3) = NaN\n",
      "  Float(0, 7, 4) = NaN\n",
      "  Float(0, 7, 5) = NaN\n",
      "  Float(0, 7, 6) = NaN\n",
      "  Float(0, 7, 7) = NaN\n",
      "  Float(0, 7, 8) = NaN\n",
      "  Float(0, 7, 9) = NaN\n",
      "  Float(0, 7, 10) = NaN\n",
      "  Float(0, 7, 11) = NaN\n",
      "  Float(0, 7, 12) = NaN\n",
      "  Float(0, 7, 13) = NaN\n",
      "  Float(0, 7, 14) = NaN\n",
      "  Float(0, 7, 15) = NaN\n",
      "  Float(0, 7, 16) = NaN\n",
      "  Float(0, 7, 17) = NaN\n",
      "  Float(0, 7, 18) = NaN\n",
      "  Float(0, 7, 19) = NaN\n",
      "  Float(0, 7, 20) = NaN\n",
      "  Float(0, 7, 21) = NaN\n",
      "  Float(0, 7, 22) = NaN\n",
      "  Float(0, 7, 23) = NaN\n",
      "  Float(0, 7, 24) = NaN\n",
      "  Float(0, 7, 25) = NaN\n",
      "  Float(0, 7, 26) = NaN\n",
      "  Float(0, 7, 27) = NaN\n",
      "  Float(0, 7, 28) = NaN\n",
      "  Float(0, 7, 29) = NaN\n",
      "  Float(0, 7, 30) = NaN\n",
      "  Float(0, 7, 31) = NaN\n",
      "Negative Floats:\n",
      "  Float(1, 0, 0) = -0.0000 * 2^(-2) = 0\n",
      "  Float(1, 0, 1) = -0.0312 * 2^(-2) = -0.0078\n",
      "  Float(1, 0, 2) = -0.0625 * 2^(-2) = -0.015625\n",
      "  Float(1, 0, 3) = -0.0937 * 2^(-2) = -0.023425\n",
      "  Float(1, 0, 4) = -0.1250 * 2^(-2) = -0.03125\n",
      "  Float(1, 0, 5) = -0.1562 * 2^(-2) = -0.03905\n",
      "  Float(1, 0, 6) = -0.1875 * 2^(-2) = -0.046875\n",
      "  Float(1, 0, 7) = -0.2187 * 2^(-2) = -0.054675\n",
      "  Float(1, 0, 8) = -0.2500 * 2^(-2) = -0.0625\n",
      "  Float(1, 0, 9) = -0.2812 * 2^(-2) = -0.0703\n",
      "  Float(1, 0, 10) = -0.3125 * 2^(-2) = -0.078125\n",
      "  Float(1, 0, 11) = -0.3437 * 2^(-2) = -0.085925\n",
      "  Float(1, 0, 12) = -0.3750 * 2^(-2) = -0.09375\n",
      "  Float(1, 0, 13) = -0.4062 * 2^(-2) = -0.10155\n",
      "  Float(1, 0, 14) = -0.4375 * 2^(-2) = -0.109375\n",
      "  Float(1, 0, 15) = -0.4687 * 2^(-2) = -0.117175\n",
      "  Float(1, 0, 16) = -0.5000 * 2^(-2) = -0.125\n",
      "  Float(1, 0, 17) = -0.5312 * 2^(-2) = -0.1328\n",
      "  Float(1, 0, 18) = -0.5625 * 2^(-2) = -0.140625\n",
      "  Float(1, 0, 19) = -0.5937 * 2^(-2) = -0.148425\n",
      "  Float(1, 0, 20) = -0.6250 * 2^(-2) = -0.15625\n",
      "  Float(1, 0, 21) = -0.6562 * 2^(-2) = -0.16405\n",
      "  Float(1, 0, 22) = -0.6875 * 2^(-2) = -0.171875\n",
      "  Float(1, 0, 23) = -0.7187 * 2^(-2) = -0.179675\n",
      "  Float(1, 0, 24) = -0.7500 * 2^(-2) = -0.1875\n",
      "  Float(1, 0, 25) = -0.7812 * 2^(-2) = -0.1953\n",
      "  Float(1, 0, 26) = -0.8125 * 2^(-2) = -0.203125\n",
      "  Float(1, 0, 27) = -0.8437 * 2^(-2) = -0.210925\n",
      "  Float(1, 0, 28) = -0.8750 * 2^(-2) = -0.21875\n",
      "  Float(1, 0, 29) = -0.9062 * 2^(-2) = -0.22655\n",
      "  Float(1, 0, 30) = -0.9375 * 2^(-2) = -0.234375\n",
      "  Float(1, 0, 31) = -0.9687 * 2^(-2) = -0.242175\n",
      "  Float(1, 1, 0) = -1.0000 * 2^(-2) = -0.25\n",
      "  Float(1, 1, 1) = -1.0312 * 2^(-2) = -0.2578\n",
      "  Float(1, 1, 2) = -1.0625 * 2^(-2) = -0.265625\n",
      "  Float(1, 1, 3) = -1.0937 * 2^(-2) = -0.273425\n",
      "  Float(1, 1, 4) = -1.1250 * 2^(-2) = -0.28125\n",
      "  Float(1, 1, 5) = -1.1562 * 2^(-2) = -0.28905\n",
      "  Float(1, 1, 6) = -1.1875 * 2^(-2) = -0.296875\n",
      "  Float(1, 1, 7) = -1.2187 * 2^(-2) = -0.304675\n",
      "  Float(1, 1, 8) = -1.2500 * 2^(-2) = -0.3125\n",
      "  Float(1, 1, 9) = -1.2812 * 2^(-2) = -0.3203\n",
      "  Float(1, 1, 10) = -1.3125 * 2^(-2) = -0.328125\n",
      "  Float(1, 1, 11) = -1.3437 * 2^(-2) = -0.335925\n",
      "  Float(1, 1, 12) = -1.3750 * 2^(-2) = -0.34375\n",
      "  Float(1, 1, 13) = -1.4062 * 2^(-2) = -0.35155\n",
      "  Float(1, 1, 14) = -1.4375 * 2^(-2) = -0.359375\n",
      "  Float(1, 1, 15) = -1.4687 * 2^(-2) = -0.367175\n",
      "  Float(1, 1, 16) = -1.5000 * 2^(-2) = -0.375\n",
      "  Float(1, 1, 17) = -1.5312 * 2^(-2) = -0.3828\n",
      "  Float(1, 1, 18) = -1.5625 * 2^(-2) = -0.390625\n",
      "  Float(1, 1, 19) = -1.5937 * 2^(-2) = -0.398425\n",
      "  Float(1, 1, 20) = -1.6250 * 2^(-2) = -0.40625\n",
      "  Float(1, 1, 21) = -1.6562 * 2^(-2) = -0.41405\n",
      "  Float(1, 1, 22) = -1.6875 * 2^(-2) = -0.421875\n",
      "  Float(1, 1, 23) = -1.7187 * 2^(-2) = -0.429675\n",
      "  Float(1, 1, 24) = -1.7500 * 2^(-2) = -0.4375\n",
      "  Float(1, 1, 25) = -1.7812 * 2^(-2) = -0.4453\n",
      "  Float(1, 1, 26) = -1.8125 * 2^(-2) = -0.453125\n",
      "  Float(1, 1, 27) = -1.8437 * 2^(-2) = -0.460925\n",
      "  Float(1, 1, 28) = -1.8750 * 2^(-2) = -0.46875\n",
      "  Float(1, 1, 29) = -1.9062 * 2^(-2) = -0.47655\n",
      "  Float(1, 1, 30) = -1.9375 * 2^(-2) = -0.484375\n",
      "  Float(1, 1, 31) = -1.9687 * 2^(-2) = -0.492175\n",
      "  Float(1, 2, 0) = -1.0000 * 2^(-1) = -0.5\n",
      "  Float(1, 2, 1) = -1.0312 * 2^(-1) = -0.5156\n",
      "  Float(1, 2, 2) = -1.0625 * 2^(-1) = -0.53125\n",
      "  Float(1, 2, 3) = -1.0937 * 2^(-1) = -0.54685\n",
      "  Float(1, 2, 4) = -1.1250 * 2^(-1) = -0.5625\n",
      "  Float(1, 2, 5) = -1.1562 * 2^(-1) = -0.5781\n",
      "  Float(1, 2, 6) = -1.1875 * 2^(-1) = -0.59375\n",
      "  Float(1, 2, 7) = -1.2187 * 2^(-1) = -0.60935\n",
      "  Float(1, 2, 8) = -1.2500 * 2^(-1) = -0.625\n",
      "  Float(1, 2, 9) = -1.2812 * 2^(-1) = -0.6406\n",
      "  Float(1, 2, 10) = -1.3125 * 2^(-1) = -0.65625\n",
      "  Float(1, 2, 11) = -1.3437 * 2^(-1) = -0.67185\n",
      "  Float(1, 2, 12) = -1.3750 * 2^(-1) = -0.6875\n",
      "  Float(1, 2, 13) = -1.4062 * 2^(-1) = -0.7031\n",
      "  Float(1, 2, 14) = -1.4375 * 2^(-1) = -0.71875\n",
      "  Float(1, 2, 15) = -1.4687 * 2^(-1) = -0.73435\n",
      "  Float(1, 2, 16) = -1.5000 * 2^(-1) = -0.75\n",
      "  Float(1, 2, 17) = -1.5312 * 2^(-1) = -0.7656\n",
      "  Float(1, 2, 18) = -1.5625 * 2^(-1) = -0.78125\n",
      "  Float(1, 2, 19) = -1.5937 * 2^(-1) = -0.79685\n",
      "  Float(1, 2, 20) = -1.6250 * 2^(-1) = -0.8125\n",
      "  Float(1, 2, 21) = -1.6562 * 2^(-1) = -0.8281\n",
      "  Float(1, 2, 22) = -1.6875 * 2^(-1) = -0.84375\n",
      "  Float(1, 2, 23) = -1.7187 * 2^(-1) = -0.85935\n",
      "  Float(1, 2, 24) = -1.7500 * 2^(-1) = -0.875\n",
      "  Float(1, 2, 25) = -1.7812 * 2^(-1) = -0.8906\n",
      "  Float(1, 2, 26) = -1.8125 * 2^(-1) = -0.90625\n",
      "  Float(1, 2, 27) = -1.8437 * 2^(-1) = -0.92185\n",
      "  Float(1, 2, 28) = -1.8750 * 2^(-1) = -0.9375\n",
      "  Float(1, 2, 29) = -1.9062 * 2^(-1) = -0.9531\n",
      "  Float(1, 2, 30) = -1.9375 * 2^(-1) = -0.96875\n",
      "  Float(1, 2, 31) = -1.9687 * 2^(-1) = -0.98435\n",
      "  Float(1, 3, 0) = -1.0000 * 2^(0) = -1\n",
      "  Float(1, 3, 1) = -1.0312 * 2^(0) = -1.0312\n",
      "  Float(1, 3, 2) = -1.0625 * 2^(0) = -1.0625\n",
      "  Float(1, 3, 3) = -1.0937 * 2^(0) = -1.0937\n",
      "  Float(1, 3, 4) = -1.1250 * 2^(0) = -1.125\n",
      "  Float(1, 3, 5) = -1.1562 * 2^(0) = -1.1562\n",
      "  Float(1, 3, 6) = -1.1875 * 2^(0) = -1.1875\n",
      "  Float(1, 3, 7) = -1.2187 * 2^(0) = -1.2187\n",
      "  Float(1, 3, 8) = -1.2500 * 2^(0) = -1.25\n",
      "  Float(1, 3, 9) = -1.2812 * 2^(0) = -1.2812\n",
      "  Float(1, 3, 10) = -1.3125 * 2^(0) = -1.3125\n",
      "  Float(1, 3, 11) = -1.3437 * 2^(0) = -1.3437\n",
      "  Float(1, 3, 12) = -1.3750 * 2^(0) = -1.375\n",
      "  Float(1, 3, 13) = -1.4062 * 2^(0) = -1.4062\n",
      "  Float(1, 3, 14) = -1.4375 * 2^(0) = -1.4375\n",
      "  Float(1, 3, 15) = -1.4687 * 2^(0) = -1.4687\n",
      "  Float(1, 3, 16) = -1.5000 * 2^(0) = -1.5\n",
      "  Float(1, 3, 17) = -1.5312 * 2^(0) = -1.5312\n",
      "  Float(1, 3, 18) = -1.5625 * 2^(0) = -1.5625\n",
      "  Float(1, 3, 19) = -1.5937 * 2^(0) = -1.5937\n",
      "  Float(1, 3, 20) = -1.6250 * 2^(0) = -1.625\n",
      "  Float(1, 3, 21) = -1.6562 * 2^(0) = -1.6562\n",
      "  Float(1, 3, 22) = -1.6875 * 2^(0) = -1.6875\n",
      "  Float(1, 3, 23) = -1.7187 * 2^(0) = -1.7187\n",
      "  Float(1, 3, 24) = -1.7500 * 2^(0) = -1.75\n",
      "  Float(1, 3, 25) = -1.7812 * 2^(0) = -1.7812\n",
      "  Float(1, 3, 26) = -1.8125 * 2^(0) = -1.8125\n",
      "  Float(1, 3, 27) = -1.8437 * 2^(0) = -1.8437\n",
      "  Float(1, 3, 28) = -1.8750 * 2^(0) = -1.875\n",
      "  Float(1, 3, 29) = -1.9062 * 2^(0) = -1.9062\n",
      "  Float(1, 3, 30) = -1.9375 * 2^(0) = -1.9375\n",
      "  Float(1, 3, 31) = -1.9687 * 2^(0) = -1.9687\n",
      "  Float(1, 4, 0) = -1.0000 * 2^(1) = -2\n",
      "  Float(1, 4, 1) = -1.0312 * 2^(1) = -2.0624\n",
      "  Float(1, 4, 2) = -1.0625 * 2^(1) = -2.125\n",
      "  Float(1, 4, 3) = -1.0937 * 2^(1) = -2.1874\n",
      "  Float(1, 4, 4) = -1.1250 * 2^(1) = -2.25\n",
      "  Float(1, 4, 5) = -1.1562 * 2^(1) = -2.3124\n",
      "  Float(1, 4, 6) = -1.1875 * 2^(1) = -2.375\n",
      "  Float(1, 4, 7) = -1.2187 * 2^(1) = -2.4374\n",
      "  Float(1, 4, 8) = -1.2500 * 2^(1) = -2.5\n",
      "  Float(1, 4, 9) = -1.2812 * 2^(1) = -2.5624\n",
      "  Float(1, 4, 10) = -1.3125 * 2^(1) = -2.625\n",
      "  Float(1, 4, 11) = -1.3437 * 2^(1) = -2.6874\n",
      "  Float(1, 4, 12) = -1.3750 * 2^(1) = -2.75\n",
      "  Float(1, 4, 13) = -1.4062 * 2^(1) = -2.8124\n",
      "  Float(1, 4, 14) = -1.4375 * 2^(1) = -2.875\n",
      "  Float(1, 4, 15) = -1.4687 * 2^(1) = -2.9374\n",
      "  Float(1, 4, 16) = -1.5000 * 2^(1) = -3\n"
     ]
    },
    {
     "name": "stdout",
     "output_type": "stream",
     "text": [
      "  Float(1, 4, 17) = -1.5312 * 2^(1) = -3.0624\n",
      "  Float(1, 4, 18) = -1.5625 * 2^(1) = -3.125\n",
      "  Float(1, 4, 19) = -1.5937 * 2^(1) = -3.1874\n",
      "  Float(1, 4, 20) = -1.6250 * 2^(1) = -3.25\n",
      "  Float(1, 4, 21) = -1.6562 * 2^(1) = -3.3124\n",
      "  Float(1, 4, 22) = -1.6875 * 2^(1) = -3.375\n",
      "  Float(1, 4, 23) = -1.7187 * 2^(1) = -3.4374\n",
      "  Float(1, 4, 24) = -1.7500 * 2^(1) = -3.5\n",
      "  Float(1, 4, 25) = -1.7812 * 2^(1) = -3.5624\n",
      "  Float(1, 4, 26) = -1.8125 * 2^(1) = -3.625\n",
      "  Float(1, 4, 27) = -1.8437 * 2^(1) = -3.6874\n",
      "  Float(1, 4, 28) = -1.8750 * 2^(1) = -3.75\n",
      "  Float(1, 4, 29) = -1.9062 * 2^(1) = -3.8124\n",
      "  Float(1, 4, 30) = -1.9375 * 2^(1) = -3.875\n",
      "  Float(1, 4, 31) = -1.9687 * 2^(1) = -3.9374\n",
      "  Float(1, 5, 0) = -1.0000 * 2^(2) = -4\n",
      "  Float(1, 5, 1) = -1.0312 * 2^(2) = -4.1248\n",
      "  Float(1, 5, 2) = -1.0625 * 2^(2) = -4.25\n",
      "  Float(1, 5, 3) = -1.0937 * 2^(2) = -4.3748\n",
      "  Float(1, 5, 4) = -1.1250 * 2^(2) = -4.5\n",
      "  Float(1, 5, 5) = -1.1562 * 2^(2) = -4.6248\n",
      "  Float(1, 5, 6) = -1.1875 * 2^(2) = -4.75\n",
      "  Float(1, 5, 7) = -1.2187 * 2^(2) = -4.8748\n",
      "  Float(1, 5, 8) = -1.2500 * 2^(2) = -5\n",
      "  Float(1, 5, 9) = -1.2812 * 2^(2) = -5.1248\n",
      "  Float(1, 5, 10) = -1.3125 * 2^(2) = -5.25\n",
      "  Float(1, 5, 11) = -1.3437 * 2^(2) = -5.3748\n",
      "  Float(1, 5, 12) = -1.3750 * 2^(2) = -5.5\n",
      "  Float(1, 5, 13) = -1.4062 * 2^(2) = -5.6248\n",
      "  Float(1, 5, 14) = -1.4375 * 2^(2) = -5.75\n",
      "  Float(1, 5, 15) = -1.4687 * 2^(2) = -5.8748\n",
      "  Float(1, 5, 16) = -1.5000 * 2^(2) = -6\n",
      "  Float(1, 5, 17) = -1.5312 * 2^(2) = -6.1248\n",
      "  Float(1, 5, 18) = -1.5625 * 2^(2) = -6.25\n",
      "  Float(1, 5, 19) = -1.5937 * 2^(2) = -6.3748\n",
      "  Float(1, 5, 20) = -1.6250 * 2^(2) = -6.5\n",
      "  Float(1, 5, 21) = -1.6562 * 2^(2) = -6.6248\n",
      "  Float(1, 5, 22) = -1.6875 * 2^(2) = -6.75\n",
      "  Float(1, 5, 23) = -1.7187 * 2^(2) = -6.8748\n",
      "  Float(1, 5, 24) = -1.7500 * 2^(2) = -7\n",
      "  Float(1, 5, 25) = -1.7812 * 2^(2) = -7.1248\n",
      "  Float(1, 5, 26) = -1.8125 * 2^(2) = -7.25\n",
      "  Float(1, 5, 27) = -1.8437 * 2^(2) = -7.3748\n",
      "  Float(1, 5, 28) = -1.8750 * 2^(2) = -7.5\n",
      "  Float(1, 5, 29) = -1.9062 * 2^(2) = -7.6248\n",
      "  Float(1, 5, 30) = -1.9375 * 2^(2) = -7.75\n",
      "  Float(1, 5, 31) = -1.9687 * 2^(2) = -7.8748\n",
      "  Float(1, 6, 0) = -1.0000 * 2^(3) = -8\n",
      "  Float(1, 6, 1) = -1.0312 * 2^(3) = -8.2496\n",
      "  Float(1, 6, 2) = -1.0625 * 2^(3) = -8.5\n",
      "  Float(1, 6, 3) = -1.0937 * 2^(3) = -8.7496\n",
      "  Float(1, 6, 4) = -1.1250 * 2^(3) = -9\n",
      "  Float(1, 6, 5) = -1.1562 * 2^(3) = -9.2496\n",
      "  Float(1, 6, 6) = -1.1875 * 2^(3) = -9.5\n",
      "  Float(1, 6, 7) = -1.2187 * 2^(3) = -9.7496\n",
      "  Float(1, 6, 8) = -1.2500 * 2^(3) = -10\n",
      "  Float(1, 6, 9) = -1.2812 * 2^(3) = -10.2496\n",
      "  Float(1, 6, 10) = -1.3125 * 2^(3) = -10.5\n",
      "  Float(1, 6, 11) = -1.3437 * 2^(3) = -10.7496\n",
      "  Float(1, 6, 12) = -1.3750 * 2^(3) = -11\n",
      "  Float(1, 6, 13) = -1.4062 * 2^(3) = -11.2496\n",
      "  Float(1, 6, 14) = -1.4375 * 2^(3) = -11.5\n",
      "  Float(1, 6, 15) = -1.4687 * 2^(3) = -11.7496\n",
      "  Float(1, 6, 16) = -1.5000 * 2^(3) = -12\n",
      "  Float(1, 6, 17) = -1.5312 * 2^(3) = -12.2496\n",
      "  Float(1, 6, 18) = -1.5625 * 2^(3) = -12.5\n",
      "  Float(1, 6, 19) = -1.5937 * 2^(3) = -12.7496\n",
      "  Float(1, 6, 20) = -1.6250 * 2^(3) = -13\n",
      "  Float(1, 6, 21) = -1.6562 * 2^(3) = -13.2496\n",
      "  Float(1, 6, 22) = -1.6875 * 2^(3) ="
     ]
    },
    {
     "data": {
      "text/plain": [
       "(void) @0x7f3d1e7fae08\n"
      ]
     },
     "execution_count": 22,
     "metadata": {},
     "output_type": "execute_result"
    }
   ],
   "source": [
    "puts(\"Positive Floats:\");\n",
    "Float current = Float_zero;\n",
    "Float stop = {0, Float_exp_max, Float_mant_max};\n",
    "while (!Float_binary_equal(current, stop)) {\n",
    "  print_named_Float(\"  \", current);\n",
    "  current = Float_next(current);\n",
    "}\n",
    "print_named_Float(\"  \", stop);\n",
    "\n",
    "puts(\"Negative Floats:\");\n",
    "current = Float_minus_zero;\n",
    "stop.sign = 1;\n",
    "while (!Float_binary_equal(current, stop)) {\n",
    "  print_named_Float(\"  \", current);\n",
    "  current = Float_next(current);\n",
    "}\n",
    "print_named_Float(\"  \", stop);"
   ]
  },
  {
   "cell_type": "code",
   "execution_count": 23,
   "metadata": {},
   "outputs": [
    {
     "data": {
      "text/plain": []
     },
     "execution_count": 23,
     "metadata": {},
     "output_type": "execute_result"
    }
   ],
   "source": [
    "const Float smallest_positive = {0, 0, 1};\n",
    "MY_ASSERT(Float_equal(Float_next(Float_zero), smallest_positive));\n",
    "\n",
    "const Float smallest_negative = {1, 0, 1};\n",
    "MY_ASSERT(Float_equal(Float_next(Float_minus_zero), smallest_negative));\n",
    "\n",
    "const Float next_after_one = {0, Float_exp_bias, 1};\n",
    "MY_ASSERT(Float_equal(Float_next(Float_one), next_after_one));\n",
    "\n",
    "Float max_positive_subnormal = {0, 0, Float_mant_max};\n",
    "Float min_positive_normal = {0, 1, 0};\n",
    "MY_ASSERT(Float_equal(Float_next(max_positive_subnormal), min_positive_normal));"
   ]
  },
  {
   "cell_type": "code",
   "execution_count": null,
   "metadata": {
    "collapsed": true
   },
   "outputs": [],
   "source": []
  }
 ],
 "metadata": {
  "kernelspec": {
   "display_name": "C++14",
   "language": "",
   "name": "cling-cpp14"
  },
  "language_info": {
   "codemirror_mode": "c++",
   "file_extension": ".c++",
   "mimetype": "text/x-c++src",
   "name": "c++"
  }
 },
 "nbformat": 4,
 "nbformat_minor": 2
}
