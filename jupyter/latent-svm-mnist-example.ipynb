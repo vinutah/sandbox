{
 "cells": [
  {
   "cell_type": "markdown",
   "metadata": {},
   "source": [
    "# Latent SVM for odd vs. even digit classification\n",
    "\n",
    "A Latent CRF with one node is the same as a latent multiclass SVM\n",
    "Using the latent variables, we can learn non-linear models. This is the\n",
    "same as a simple Latent SVM model. It would obviously be more effiencent\n",
    "to implement a special case for Latent SVMs so we don't have to run an\n",
    "inference procedure.\n",
    "\n",
    "This example uses the scikit-learn digit classification dataset, but poses\n",
    "the problem as a binary one, discriminating between even and odd digits."
   ]
  },
  {
   "cell_type": "code",
   "execution_count": null,
   "metadata": {},
   "outputs": [],
   "source": [
    "import numpy as np\n",
    "import matplotlib.pyplot as plt\n",
    "\n",
    "from sklearn.cross_validation import train_test_split\n",
    "from sklearn.datasets import load_digits\n",
    "\n",
    "from pystruct.models import GraphCRF, LatentGraphCRF\n",
    "from pystruct.learners import NSlackSSVM, LatentSSVM"
   ]
  },
  {
   "cell_type": "code",
   "execution_count": null,
   "metadata": {
    "collapsed": true
   },
   "outputs": [],
   "source": [
    "# Load the scikit-learn digits classification dataset.\n",
    "digits = load_digits()\n",
    "X, y_org = digits.data, digits.target\n",
    "X /= X.max()"
   ]
  },
  {
   "cell_type": "code",
   "execution_count": null,
   "metadata": {
    "collapsed": true
   },
   "outputs": [],
   "source": [
    "# Make binary task by doing odd vs even numers.\n",
    "y = y_org % 2"
   ]
  },
  {
   "cell_type": "code",
   "execution_count": null,
   "metadata": {
    "collapsed": true
   },
   "outputs": [],
   "source": [
    "# Make each example into a tuple of a single feature vector and an empty edge\n",
    "# list\n",
    "X_ = [(np.atleast_2d(x), np.empty((0, 2), dtype=np.int)) for x in X]\n",
    "Y = y.reshape(-1, 1)\n",
    "\n",
    "X_train_, X_test_, X_train, X_test, y_train, y_test, y_org_train, y_org_test =\\\n",
    "    train_test_split(X_, X, Y, y_org, test_size=.5)"
   ]
  },
  {
   "cell_type": "code",
   "execution_count": null,
   "metadata": {},
   "outputs": [],
   "source": [
    "# First, perform the equivalent of the usual SVM.  This is represented as\n",
    "# a CRF problem with no edges.\n",
    "\n",
    "pbl = GraphCRF(inference_method='unary')\n",
    "# We use batch_size=-1 as a binary problem can be solved in one go.\n",
    "svm = NSlackSSVM(pbl, C=1, batch_size=-1)\n",
    "\n",
    "svm.fit(X_train_, y_train)"
   ]
  },
  {
   "cell_type": "code",
   "execution_count": null,
   "metadata": {
    "scrolled": true
   },
   "outputs": [],
   "source": [
    "# Now, use a latent-variabile CRF model with SVM training.\n",
    "# 5 states per label is enough capacity to encode the 5 digit classes.\n",
    "\n",
    "latent_pbl = LatentGraphCRF(n_states_per_label=5,\n",
    "                            inference_method='unary')\n",
    "base_ssvm = NSlackSSVM(latent_pbl, C=1, tol=.01,\n",
    "                       inactive_threshold=1e-3, batch_size=10)\n",
    "latent_svm = LatentSSVM(base_ssvm=base_ssvm, latent_iter=2)\n",
    "latent_svm.fit(X_train_, y_train)"
   ]
  },
  {
   "cell_type": "code",
   "execution_count": null,
   "metadata": {},
   "outputs": [],
   "source": [
    "print(\"Score with binary SVM:\")\n",
    "print(\"Train: {:2.2f}\".format(svm.score(X_train_, y_train)))\n",
    "print(\"Test: {:2.2f}\".format(svm.score(X_test_, y_test)))\n",
    "\n",
    "print(\"Score with latent SVM:\")\n",
    "print(\"Train: {:2.2f}\".format(latent_svm.score(X_train_, y_train)))\n",
    "print(\"Test: {:2.2f}\".format(latent_svm.score(X_test_, y_test)))\n",
    "\n",
    "h_pred = np.hstack(latent_svm.predict_latent(X_test_))\n",
    "print(\"Latent class counts: %s\" % repr(np.bincount(h_pred)))"
   ]
  },
  {
   "cell_type": "code",
   "execution_count": null,
   "metadata": {},
   "outputs": [],
   "source": [
    "# plot first few digits from each latent class\n",
    "\n",
    "plt.figure(figsize=(3, 5))\n",
    "plt.suptitle(\"Example digits from each of\\nthe ten latent classes.\")\n",
    "n_latent_classes = 10\n",
    "n_examples = 7\n",
    "for latent_class in range(n_latent_classes):\n",
    "    examples = X_test[h_pred == latent_class][:n_examples]\n",
    "    for k, example in enumerate(examples):\n",
    "        plt.subplot(n_latent_classes, n_examples,\n",
    "                    1 + (n_examples * latent_class + k))\n",
    "        plt.imshow(example.reshape((8, 8)), cmap=plt.cm.gray_r)\n",
    "        plt.xticks(())\n",
    "        plt.yticks(())\n",
    "plt.subplots_adjust(.02, .04, .96, .88, .12, .18)\n",
    "plt.show()"
   ]
  },
  {
   "cell_type": "code",
   "execution_count": null,
   "metadata": {
    "collapsed": true
   },
   "outputs": [],
   "source": []
  }
 ],
 "metadata": {
  "kernelspec": {
   "display_name": "Python 3",
   "language": "python",
   "name": "python3"
  },
  "language_info": {
   "codemirror_mode": {
    "name": "ipython",
    "version": 3
   },
   "file_extension": ".py",
   "mimetype": "text/x-python",
   "name": "python",
   "nbconvert_exporter": "python",
   "pygments_lexer": "ipython3",
   "version": "3.6.1"
  }
 },
 "nbformat": 4,
 "nbformat_minor": 1
}
