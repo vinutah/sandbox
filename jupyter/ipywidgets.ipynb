{
 "cells": [
  {
   "cell_type": "markdown",
   "metadata": {},
   "source": [
    "# IPython Widgets\n",
    "\n",
    "In this notebook, I want to play around with the simple parts of IPython Widgets.  Other notebooks may be created to study more complicated uses of these widgets.\n",
    "\n",
    "The project can be followed on [GitHub](https://github.com/ipython/ipywidgets) where they have examples of notebooks to use."
   ]
  },
  {
   "cell_type": "markdown",
   "metadata": {},
   "source": [
    "## Interact\n",
    "\n",
    "Let's first look at the interact function."
   ]
  },
  {
   "cell_type": "code",
   "execution_count": null,
   "metadata": {
    "collapsed": true
   },
   "outputs": [],
   "source": [
    "import ipywidgets as widg"
   ]
  },
  {
   "cell_type": "code",
   "execution_count": null,
   "metadata": {
    "collapsed": false
   },
   "outputs": [],
   "source": [
    "help(widg.interact)"
   ]
  },
  {
   "cell_type": "markdown",
   "metadata": {},
   "source": [
    "Notice that I ignore the return value because the interact function returns the container for the other widgets.  We do not need access to this to have it display, but you can do some things with it."
   ]
  },
  {
   "cell_type": "code",
   "execution_count": null,
   "metadata": {
    "collapsed": false
   },
   "outputs": [],
   "source": [
    "def f(x):\n",
    "    return x**2\n",
    "_ = widg.interact(f, x=10)"
   ]
  },
  {
   "cell_type": "markdown",
   "metadata": {},
   "source": [
    "We can have many different types of input.  It will match the input type you specify."
   ]
  },
  {
   "cell_type": "code",
   "execution_count": null,
   "metadata": {
    "collapsed": false
   },
   "outputs": [],
   "source": [
    "import math\n",
    "def norm(x, y):\n",
    "    return math.sqrt(x**2 + y**2)\n",
    "_ = widg.interact(norm, x=10.0, y=5)"
   ]
  },
  {
   "cell_type": "code",
   "execution_count": null,
   "metadata": {
    "collapsed": false
   },
   "outputs": [],
   "source": [
    "def xor(x, y):\n",
    "    return x != y\n",
    "_ = widg.interact(xor, x=False, y=False)"
   ]
  },
  {
   "cell_type": "code",
   "execution_count": null,
   "metadata": {
    "collapsed": false
   },
   "outputs": [],
   "source": [
    "import re\n",
    "matcher = re.compile(r'\\S+\\s*\\(\\s*(\\S+)\\s*\\)')\n",
    "_ = widg.interact(lambda x: matcher.search(x).group(1), x=\"Function(argument)\")"
   ]
  },
  {
   "cell_type": "markdown",
   "metadata": {},
   "source": [
    "You can also specify what the range is as well as the step size (note the `//` signifies integer division)"
   ]
  },
  {
   "cell_type": "code",
   "execution_count": null,
   "metadata": {
    "collapsed": false
   },
   "outputs": [],
   "source": [
    "_ = widg.interact(lambda x: x//10, x=(0, 200, 10))"
   ]
  },
  {
   "cell_type": "code",
   "execution_count": null,
   "metadata": {
    "collapsed": false
   },
   "outputs": [],
   "source": [
    "_ = widg.interact(lambda x: 'I like ' + x, x=['apples', 'oranges', 'you'])"
   ]
  },
  {
   "cell_type": "code",
   "execution_count": null,
   "metadata": {
    "collapsed": false
   },
   "outputs": [],
   "source": [
    "_ = widg.interact(lambda f, x: f(x), x=(0, 200, 10),\n",
    "        f={\n",
    "            'sqrt': lambda x: math.sqrt(x),\n",
    "            'plus 4': lambda x: x + 4,\n",
    "            'div by 10': lambda x: x // 10,\n",
    "        })"
   ]
  },
  {
   "cell_type": "code",
   "execution_count": null,
   "metadata": {
    "collapsed": false
   },
   "outputs": [],
   "source": [
    "_ = widg.interact(lambda f, x, y: f(x,y), x=False, y=False,\n",
    "    f={\n",
    "        'and': lambda x, y: x and y,\n",
    "        'or': lambda x, y: x or y,\n",
    "        'xor': lambda x, y: x != y,\n",
    "        'implies': lambda x, y: not x or y,\n",
    "    })"
   ]
  },
  {
   "cell_type": "code",
   "execution_count": null,
   "metadata": {
    "collapsed": false
   },
   "outputs": [],
   "source": [
    "import matplotlib.pyplot as plt\n",
    "def plot_line(m, b):\n",
    "    x1 = -100\n",
    "    x2 = 100\n",
    "    y1 = m * x1 + b\n",
    "    y2 = m * x2 + b\n",
    "    plt.plot([x1, x2], [y1, y2])\n",
    "    plt.ylim((-10, 10))\n",
    "    plt.xlim((-10, 10))\n",
    "    plt.gca().set_aspect('equal')\n",
    "    plt.show()\n",
    "widg.interact(plot_line, m=5, b=5)"
   ]
  },
  {
   "cell_type": "code",
   "execution_count": null,
   "metadata": {
    "collapsed": false
   },
   "outputs": [],
   "source": [
    "plt.show()\n",
    "plot_line(0.5, 1)"
   ]
  },
  {
   "cell_type": "code",
   "execution_count": null,
   "metadata": {
    "collapsed": true
   },
   "outputs": [],
   "source": []
  }
 ],
 "metadata": {
  "anaconda-cloud": {},
  "kernelspec": {
   "display_name": "Python [conda root]",
   "language": "python",
   "name": "conda-root-py"
  },
  "language_info": {
   "codemirror_mode": {
    "name": "ipython",
    "version": 3
   },
   "file_extension": ".py",
   "mimetype": "text/x-python",
   "name": "python",
   "nbconvert_exporter": "python",
   "pygments_lexer": "ipython3",
   "version": "3.5.2"
  }
 },
 "nbformat": 4,
 "nbformat_minor": 1
}
